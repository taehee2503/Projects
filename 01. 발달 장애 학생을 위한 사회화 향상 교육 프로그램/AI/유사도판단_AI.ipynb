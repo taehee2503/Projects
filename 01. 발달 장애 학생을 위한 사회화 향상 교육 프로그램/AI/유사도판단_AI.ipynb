{
  "nbformat": 4,
  "nbformat_minor": 0,
  "metadata": {
    "colab": {
      "provenance": []
    },
    "kernelspec": {
      "name": "python3",
      "display_name": "Python 3"
    },
    "language_info": {
      "name": "python"
    }
  },
  "cells": [
    {
      "cell_type": "code",
      "execution_count": 9,
      "metadata": {
        "id": "96plP1otqDMG",
        "colab": {
          "base_uri": "https://localhost:8080/"
        },
        "outputId": "643bcc68-1eb0-46db-c38f-8dbc902bc7ad"
      },
      "outputs": [
        {
          "output_type": "stream",
          "name": "stdout",
          "text": [
            "Requirement already satisfied: transformers in /usr/local/lib/python3.10/dist-packages (4.35.2)\n",
            "Requirement already satisfied: filelock in /usr/local/lib/python3.10/dist-packages (from transformers) (3.13.1)\n",
            "Requirement already satisfied: huggingface-hub<1.0,>=0.16.4 in /usr/local/lib/python3.10/dist-packages (from transformers) (0.20.2)\n",
            "Requirement already satisfied: numpy>=1.17 in /usr/local/lib/python3.10/dist-packages (from transformers) (1.23.5)\n",
            "Requirement already satisfied: packaging>=20.0 in /usr/local/lib/python3.10/dist-packages (from transformers) (23.2)\n",
            "Requirement already satisfied: pyyaml>=5.1 in /usr/local/lib/python3.10/dist-packages (from transformers) (6.0.1)\n",
            "Requirement already satisfied: regex!=2019.12.17 in /usr/local/lib/python3.10/dist-packages (from transformers) (2023.6.3)\n",
            "Requirement already satisfied: requests in /usr/local/lib/python3.10/dist-packages (from transformers) (2.31.0)\n",
            "Requirement already satisfied: tokenizers<0.19,>=0.14 in /usr/local/lib/python3.10/dist-packages (from transformers) (0.15.0)\n",
            "Requirement already satisfied: safetensors>=0.3.1 in /usr/local/lib/python3.10/dist-packages (from transformers) (0.4.1)\n",
            "Requirement already satisfied: tqdm>=4.27 in /usr/local/lib/python3.10/dist-packages (from transformers) (4.66.1)\n",
            "Requirement already satisfied: fsspec>=2023.5.0 in /usr/local/lib/python3.10/dist-packages (from huggingface-hub<1.0,>=0.16.4->transformers) (2023.6.0)\n",
            "Requirement already satisfied: typing-extensions>=3.7.4.3 in /usr/local/lib/python3.10/dist-packages (from huggingface-hub<1.0,>=0.16.4->transformers) (4.5.0)\n",
            "Requirement already satisfied: charset-normalizer<4,>=2 in /usr/local/lib/python3.10/dist-packages (from requests->transformers) (3.3.2)\n",
            "Requirement already satisfied: idna<4,>=2.5 in /usr/local/lib/python3.10/dist-packages (from requests->transformers) (3.6)\n",
            "Requirement already satisfied: urllib3<3,>=1.21.1 in /usr/local/lib/python3.10/dist-packages (from requests->transformers) (2.0.7)\n",
            "Requirement already satisfied: certifi>=2017.4.17 in /usr/local/lib/python3.10/dist-packages (from requests->transformers) (2023.11.17)\n",
            "Requirement already satisfied: sentencepiece in /usr/local/lib/python3.10/dist-packages (0.1.99)\n",
            "Reading package lists... Done\n",
            "Building dependency tree... Done\n",
            "Reading state information... Done\n",
            "curl is already the newest version (7.81.0-1ubuntu1.15).\n",
            "git is already the newest version (1:2.34.1-1ubuntu1.10).\n",
            "0 upgraded, 0 newly installed, 0 to remove and 24 not upgraded.\n",
            "Reading package lists... Done\n",
            "Building dependency tree... Done\n",
            "Reading state information... Done\n",
            "build-essential is already the newest version (12.9ubuntu3).\n",
            "0 upgraded, 0 newly installed, 0 to remove and 24 not upgraded.\n",
            "Reading package lists... Done\n",
            "Building dependency tree... Done\n",
            "Reading state information... Done\n",
            "cmake is already the newest version (3.22.1-1ubuntu1.22.04.1).\n",
            "0 upgraded, 0 newly installed, 0 to remove and 24 not upgraded.\n",
            "Reading package lists... Done\n",
            "Building dependency tree... Done\n",
            "Reading state information... Done\n",
            "g++ is already the newest version (4:11.2.0-1ubuntu1).\n",
            "0 upgraded, 0 newly installed, 0 to remove and 24 not upgraded.\n",
            "Reading package lists... Done\n",
            "Building dependency tree... Done\n",
            "Reading state information... Done\n",
            "flex is already the newest version (2.6.4-8build2).\n",
            "0 upgraded, 0 newly installed, 0 to remove and 24 not upgraded.\n",
            "Reading package lists... Done\n",
            "Building dependency tree... Done\n",
            "Reading state information... Done\n",
            "bison is already the newest version (2:3.8.2+dfsg-1build1).\n",
            "0 upgraded, 0 newly installed, 0 to remove and 24 not upgraded.\n",
            "Reading package lists... Done\n",
            "Building dependency tree... Done\n",
            "Reading state information... Done\n",
            "Package python-dev is not available, but is referred to by another package.\n",
            "This may mean that the package is missing, has been obsoleted, or\n",
            "is only available from another source\n",
            "However the following packages replace it:\n",
            "  python2-dev python2 python-dev-is-python3\n",
            "\n",
            "E: Package 'python-dev' has no installation candidate\n",
            "Requirement already satisfied: cython in /usr/local/lib/python3.10/dist-packages (3.0.7)\n",
            "Requirement already satisfied: mecab-python in /usr/local/lib/python3.10/dist-packages (1.0.0)\n",
            "Requirement already satisfied: mecab-python3 in /usr/local/lib/python3.10/dist-packages (from mecab-python) (1.0.8)\n",
            "Requirement already satisfied: konlpy in /usr/local/lib/python3.10/dist-packages (0.6.0)\n",
            "Requirement already satisfied: JPype1>=0.7.0 in /usr/local/lib/python3.10/dist-packages (from konlpy) (1.5.0)\n",
            "Requirement already satisfied: lxml>=4.1.0 in /usr/local/lib/python3.10/dist-packages (from konlpy) (4.9.4)\n",
            "Requirement already satisfied: numpy>=1.6 in /usr/local/lib/python3.10/dist-packages (from konlpy) (1.23.5)\n",
            "Requirement already satisfied: packaging in /usr/local/lib/python3.10/dist-packages (from JPype1>=0.7.0->konlpy) (23.2)\n",
            "mecab-ko is already installed\n",
            "mecab-ko-dic is already installed\n",
            "mecab-python is already installed\n",
            "Done.\n",
            "Requirement already satisfied: konlpy in /usr/local/lib/python3.10/dist-packages (0.6.0)\n",
            "Requirement already satisfied: pandas in /usr/local/lib/python3.10/dist-packages (1.5.3)\n",
            "Requirement already satisfied: seaborn in /usr/local/lib/python3.10/dist-packages (0.12.2)\n",
            "Requirement already satisfied: gensim in /usr/local/lib/python3.10/dist-packages (4.3.2)\n",
            "Requirement already satisfied: wordcloud in /usr/local/lib/python3.10/dist-packages (1.9.3)\n",
            "Requirement already satisfied: python-mecab-ko in /usr/local/lib/python3.10/dist-packages (1.3.3)\n",
            "Requirement already satisfied: wget in /usr/local/lib/python3.10/dist-packages (3.2)\n",
            "Requirement already satisfied: svgling in /usr/local/lib/python3.10/dist-packages (0.4.0)\n",
            "Requirement already satisfied: JPype1>=0.7.0 in /usr/local/lib/python3.10/dist-packages (from konlpy) (1.5.0)\n",
            "Requirement already satisfied: lxml>=4.1.0 in /usr/local/lib/python3.10/dist-packages (from konlpy) (4.9.4)\n",
            "Requirement already satisfied: numpy>=1.6 in /usr/local/lib/python3.10/dist-packages (from konlpy) (1.23.5)\n",
            "Requirement already satisfied: python-dateutil>=2.8.1 in /usr/local/lib/python3.10/dist-packages (from pandas) (2.8.2)\n",
            "Requirement already satisfied: pytz>=2020.1 in /usr/local/lib/python3.10/dist-packages (from pandas) (2023.3.post1)\n",
            "Requirement already satisfied: matplotlib!=3.6.1,>=3.1 in /usr/local/lib/python3.10/dist-packages (from seaborn) (3.7.1)\n",
            "Requirement already satisfied: scipy>=1.7.0 in /usr/local/lib/python3.10/dist-packages (from gensim) (1.11.4)\n",
            "Requirement already satisfied: smart-open>=1.8.1 in /usr/local/lib/python3.10/dist-packages (from gensim) (6.4.0)\n",
            "Requirement already satisfied: pillow in /usr/local/lib/python3.10/dist-packages (from wordcloud) (9.4.0)\n",
            "Requirement already satisfied: python-mecab-ko-dic in /usr/local/lib/python3.10/dist-packages (from python-mecab-ko) (2.1.1.post2)\n",
            "Requirement already satisfied: svgwrite in /usr/local/lib/python3.10/dist-packages (from svgling) (1.4.3)\n",
            "Requirement already satisfied: packaging in /usr/local/lib/python3.10/dist-packages (from JPype1>=0.7.0->konlpy) (23.2)\n",
            "Requirement already satisfied: contourpy>=1.0.1 in /usr/local/lib/python3.10/dist-packages (from matplotlib!=3.6.1,>=3.1->seaborn) (1.2.0)\n",
            "Requirement already satisfied: cycler>=0.10 in /usr/local/lib/python3.10/dist-packages (from matplotlib!=3.6.1,>=3.1->seaborn) (0.12.1)\n",
            "Requirement already satisfied: fonttools>=4.22.0 in /usr/local/lib/python3.10/dist-packages (from matplotlib!=3.6.1,>=3.1->seaborn) (4.47.0)\n",
            "Requirement already satisfied: kiwisolver>=1.0.1 in /usr/local/lib/python3.10/dist-packages (from matplotlib!=3.6.1,>=3.1->seaborn) (1.4.5)\n",
            "Requirement already satisfied: pyparsing>=2.3.1 in /usr/local/lib/python3.10/dist-packages (from matplotlib!=3.6.1,>=3.1->seaborn) (3.1.1)\n",
            "Requirement already satisfied: six>=1.5 in /usr/local/lib/python3.10/dist-packages (from python-dateutil>=2.8.1->pandas) (1.16.0)\n"
          ]
        }
      ],
      "source": [
        "!pip install transformers\n",
        "!pip install sentencepiece\n",
        "!apt-get install curl git\n",
        "!apt-get install build-essential\n",
        "!apt-get install cmake\n",
        "!apt-get install g++\n",
        "!apt-get install flex\n",
        "!apt-get install bison\n",
        "!apt-get install python-dev\n",
        "!pip install cython\n",
        "!pip install mecab-python\n",
        "!python3 -m pip install konlpy\n",
        "!bash <(curl -s https://raw.githubusercontent.com/konlpy/konlpy/master/scripts/mecab.sh)\n",
        "!pip install konlpy pandas seaborn gensim wordcloud python-mecab-ko wget svgling"
      ]
    },
    {
      "cell_type": "code",
      "source": [
        "from google.colab import drive\n",
        "drive.mount('/content/drive')"
      ],
      "metadata": {
        "id": "fIDvk6_JqFRH",
        "colab": {
          "base_uri": "https://localhost:8080/"
        },
        "outputId": "72395dd9-01c6-40d8-902c-4f5558dfb564"
      },
      "execution_count": 10,
      "outputs": [
        {
          "output_type": "stream",
          "name": "stdout",
          "text": [
            "Drive already mounted at /content/drive; to attempt to forcibly remount, call drive.mount(\"/content/drive\", force_remount=True).\n"
          ]
        }
      ]
    },
    {
      "cell_type": "code",
      "source": [
        "from mecab import MeCab\n",
        "import numpy as np\n",
        "import pandas as pd\n",
        "from transformers import AutoTokenizer, AutoModel\n",
        "import torch\n",
        "import torch.nn.functional as F\n",
        "from transformers import BertModel"
      ],
      "metadata": {
        "id": "GOPWUCoUqFTO"
      },
      "execution_count": 11,
      "outputs": []
    },
    {
      "cell_type": "code",
      "source": [
        "def mean_pooling(model_output, attention_mask):\n",
        "    token_embeddings = model_output[0] #First element of model_output contains all token embeddings\n",
        "    input_mask_expanded = attention_mask.unsqueeze(-1).expand(token_embeddings.size()).float()\n",
        "    return torch.sum(token_embeddings * input_mask_expanded, 1) / torch.clamp(input_mask_expanded.sum(1), min=1e-9)\n",
        "\n",
        "def token_nouns(text):\n",
        "    reply_nouns = mecab.nouns(text)\n",
        "    reply_mecab = ' '.join(reply_nouns)\n",
        "    return reply_mecab"
      ],
      "metadata": {
        "id": "5r98AR1MqFVV"
      },
      "execution_count": 12,
      "outputs": []
    },
    {
      "cell_type": "code",
      "source": [
        "mecab = MeCab()\n",
        "\n",
        "# 정답\n",
        "answer = '커피 주세요'\n",
        "\n",
        "# 정답 문장 형태소 분석(명사 추출)\n",
        "answer_nouns = mecab.nouns(answer)\n",
        "answer_mecab = ' '.join(answer_nouns)"
      ],
      "metadata": {
        "id": "kg6NzcspqFXd"
      },
      "execution_count": 13,
      "outputs": []
    },
    {
      "cell_type": "code",
      "source": [
        "texts = ['바닐라 라떼 주세요','딸기라떼 주세요', '커피 주세요', '빨리 먹고 싶어요', '저게 뭐에요?', '잘 모르겠어요', '초코 프라프치노 주세요', '카푸치노 주세요','넌 뭐야', '집에 가고 싶어요', '아아 주세요', '이게 뭐에요?', '아메리카노 주세요', '라떼 주세요', '나는 18살이에요']"
      ],
      "metadata": {
        "id": "frjCsw6GqFZ1"
      },
      "execution_count": 14,
      "outputs": []
    },
    {
      "cell_type": "code",
      "source": [
        "model2 = BertModel.from_pretrained('jhgan/ko-sbert-sts')\n",
        "tokenizer2 = AutoTokenizer.from_pretrained('jhgan/ko-sbert-sts', last_hidden_states=True, max_length = 512)"
      ],
      "metadata": {
        "id": "CX9tvADIqFbl"
      },
      "execution_count": 15,
      "outputs": []
    },
    {
      "cell_type": "code",
      "source": [
        "print('정답:', answer)\n",
        "\n",
        "for text in texts:\n",
        "    # 단어만 비교\n",
        "    reply_mecab = token_nouns(text)\n",
        "    compare1 = [answer_mecab, reply_mecab]\n",
        "    encoded_input1 = tokenizer2(compare1, padding=True, truncation=True, return_tensors='pt')\n",
        "\n",
        "    with torch.no_grad():\n",
        "        model_output1 = model2(**encoded_input1)\n",
        "\n",
        "    sentence_embeddings1 = mean_pooling(model_output1, encoded_input1['attention_mask'])\n",
        "\n",
        "    # 문장 전체 비교\n",
        "    compare2 = [answer, text]\n",
        "    encoded_input2 = tokenizer2(compare2, padding=True, truncation=True, return_tensors='pt')\n",
        "\n",
        "    with torch.no_grad():\n",
        "        model_output2 = model2(**encoded_input2)\n",
        "\n",
        "    sentence_embeddings2 = mean_pooling(model_output2, encoded_input2['attention_mask'])\n",
        "\n",
        "    # 유사도 검사\n",
        "    similarity1 = F.cosine_similarity(sentence_embeddings1[0], sentence_embeddings1[1], dim = -1)#, dim=1)\n",
        "    similarity2 = F.cosine_similarity(sentence_embeddings2[0], sentence_embeddings2[1], dim = -1)#, dim=1)\n",
        "    print('-----------------------------------------------')\n",
        "    print(\"질문:\", text)\n",
        "    print('단어만 비교한 유사도:', similarity1.item())\n",
        "    print('문장 전체 유사도:', similarity2.item())\n",
        "    print('유사도 합:', similarity1.item() + similarity2.item())\n",
        "    print('-----------------------------------------------')"
      ],
      "metadata": {
        "id": "nT8VEuR4qURv",
        "colab": {
          "base_uri": "https://localhost:8080/"
        },
        "outputId": "3b3a7d05-7356-47af-ed1c-651af1d0d3e9"
      },
      "execution_count": 16,
      "outputs": [
        {
          "output_type": "stream",
          "name": "stdout",
          "text": [
            "정답: 커피 주세요\n",
            "-----------------------------------------------\n",
            "질문: 바닐라 라떼 주세요\n",
            "단어만 비교한 유사도: 0.7243887782096863\n",
            "문장 전체 유사도: 0.7243887782096863\n",
            "유사도 합: 1.4487775564193726\n",
            "-----------------------------------------------\n",
            "-----------------------------------------------\n",
            "질문: 딸기라떼 주세요\n",
            "단어만 비교한 유사도: 0.35612380504608154\n",
            "문장 전체 유사도: 0.6409763097763062\n",
            "유사도 합: 0.9971001148223877\n",
            "-----------------------------------------------\n",
            "-----------------------------------------------\n",
            "질문: 커피 주세요\n",
            "단어만 비교한 유사도: 0.9999999403953552\n",
            "문장 전체 유사도: 0.9999999403953552\n",
            "유사도 합: 1.9999998807907104\n",
            "-----------------------------------------------\n",
            "-----------------------------------------------\n",
            "질문: 빨리 먹고 싶어요\n",
            "단어만 비교한 유사도: 0.3467792272567749\n",
            "문장 전체 유사도: 0.31928297877311707\n",
            "유사도 합: 0.666062206029892\n",
            "-----------------------------------------------\n",
            "-----------------------------------------------\n",
            "질문: 저게 뭐에요?\n",
            "단어만 비교한 유사도: 0.23364795744419098\n",
            "문장 전체 유사도: 0.15934336185455322\n",
            "유사도 합: 0.3929913192987442\n",
            "-----------------------------------------------\n",
            "-----------------------------------------------\n",
            "질문: 잘 모르겠어요\n",
            "단어만 비교한 유사도: 0.3467792272567749\n",
            "문장 전체 유사도: 0.2890680730342865\n",
            "유사도 합: 0.6358473002910614\n",
            "-----------------------------------------------\n",
            "-----------------------------------------------\n",
            "질문: 초코 프라프치노 주세요\n",
            "단어만 비교한 유사도: 0.5598264932632446\n",
            "문장 전체 유사도: 0.5905369520187378\n",
            "유사도 합: 1.1503634452819824\n",
            "-----------------------------------------------\n",
            "-----------------------------------------------\n",
            "질문: 카푸치노 주세요\n",
            "단어만 비교한 유사도: 0.5364064574241638\n",
            "문장 전체 유사도: 0.5364064574241638\n",
            "유사도 합: 1.0728129148483276\n",
            "-----------------------------------------------\n",
            "-----------------------------------------------\n",
            "질문: 넌 뭐야\n",
            "단어만 비교한 유사도: 0.25099802017211914\n",
            "문장 전체 유사도: 0.19853556156158447\n",
            "유사도 합: 0.4495335817337036\n",
            "-----------------------------------------------\n",
            "-----------------------------------------------\n",
            "질문: 집에 가고 싶어요\n",
            "단어만 비교한 유사도: 0.2999022603034973\n",
            "문장 전체 유사도: 0.21287328004837036\n",
            "유사도 합: 0.5127755403518677\n",
            "-----------------------------------------------\n",
            "-----------------------------------------------\n",
            "질문: 아아 주세요\n",
            "단어만 비교한 유사도: 0.5390270948410034\n",
            "문장 전체 유사도: 0.615584671497345\n",
            "유사도 합: 1.1546117663383484\n",
            "-----------------------------------------------\n",
            "-----------------------------------------------\n",
            "질문: 이게 뭐에요?\n",
            "단어만 비교한 유사도: 0.26514893770217896\n",
            "문장 전체 유사도: 0.21244056522846222\n",
            "유사도 합: 0.4775895029306412\n",
            "-----------------------------------------------\n",
            "-----------------------------------------------\n",
            "질문: 아메리카노 주세요\n",
            "단어만 비교한 유사도: 0.8248792290687561\n",
            "문장 전체 유사도: 0.8248792290687561\n",
            "유사도 합: 1.6497584581375122\n",
            "-----------------------------------------------\n",
            "-----------------------------------------------\n",
            "질문: 라떼 주세요\n",
            "단어만 비교한 유사도: 0.8286951184272766\n",
            "문장 전체 유사도: 0.8286951184272766\n",
            "유사도 합: 1.6573902368545532\n",
            "-----------------------------------------------\n",
            "-----------------------------------------------\n",
            "질문: 나는 18살이에요\n",
            "단어만 비교한 유사도: 0.14981772005558014\n",
            "문장 전체 유사도: 0.15015257894992828\n",
            "유사도 합: 0.2999702990055084\n",
            "-----------------------------------------------\n"
          ]
        }
      ]
    },
    {
      "cell_type": "code",
      "source": [
        "# 모델 저장\n",
        "import joblib\n",
        "\n",
        "joblib.dump(model2, '/content/drive/MyDrive/Colab Notebooks/빅프로젝트/model/model.pkl')\n",
        "joblib.dump(tokenizer2, '/content/drive/MyDrive/Colab Notebooks/빅프로젝트/model/tokenizer.pkl')"
      ],
      "metadata": {
        "colab": {
          "base_uri": "https://localhost:8080/"
        },
        "id": "31yE1A9WDsEq",
        "outputId": "4f970282-e3ce-42d9-d552-f62792c2cd3a"
      },
      "execution_count": 17,
      "outputs": [
        {
          "output_type": "execute_result",
          "data": {
            "text/plain": [
              "['/content/drive/MyDrive/Colab Notebooks/빅프로젝트/model/tokenizer.pkl']"
            ]
          },
          "metadata": {},
          "execution_count": 17
        }
      ]
    }
  ]
}